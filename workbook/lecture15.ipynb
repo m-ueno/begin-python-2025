{
  "cells": [
    {
      "cell_type": "markdown",
      "id": "52b9c04c",
      "metadata": {
        "id": "52b9c04c"
      },
      "source": [
        "# 第15回 機械学習自動化技術（AutoML）に触れてみよう！"
      ]
    },
    {
      "cell_type": "markdown",
      "id": "0f3467e6",
      "metadata": {
        "id": "0f3467e6"
      },
      "source": [
        "___\n",
        "[![Open In Colab](https://colab.research.google.com/assets/colab-badge.svg)](https://colab.research.google.com/github/m-ueno/begin-python-2025/blob/master/workbook/lecture15.ipynb)\n",
        "\n",
        "___"
      ]
    },
    {
      "cell_type": "markdown",
      "id": "9ba5723c",
      "metadata": {
        "id": "9ba5723c"
      },
      "source": [
        "## この授業で学ぶこと"
      ]
    },
    {
      "cell_type": "markdown",
      "id": "49246d72",
      "metadata": {
        "id": "49246d72"
      },
      "source": [
        "最終回の今回は、14回で学んだ機械学習を自動化する技術であるAutoMLがどのようなものかを知るため、[SapientML](https://sapientml.io/ja/)というOSSを使って機械学習モデルの自動構築を体験してもらう。"
      ]
    },
    {
      "cell_type": "markdown",
      "id": "e33b81b3",
      "metadata": {
        "id": "e33b81b3"
      },
      "source": [
        "## 利用手順\n",
        "\n",
        "まずはSapientMLのライブラリをインストールする必要がある。 `pip install`でインストールすることが出来る。\n",
        "\n",
        "今回も、前回利用してきたダイヤモンドのデータを利用する。"
      ]
    },
    {
      "cell_type": "code",
      "execution_count": null,
      "id": "595fbdba",
      "metadata": {
        "colab": {
          "base_uri": "https://localhost:8080/"
        },
        "id": "595fbdba",
        "outputId": "334bddc5-f0fc-4e8d-8f3a-686dc111eb02"
      },
      "outputs": [],
      "source": [
        "pip install -U sapientml sapientml-core==0.6.2"
      ]
    },
    {
      "cell_type": "code",
      "execution_count": 2,
      "id": "cf0bd2b1",
      "metadata": {
        "id": "cf0bd2b1"
      },
      "outputs": [],
      "source": [
        "import pandas as pd\n",
        "from sapientml import SapientML\n",
        "from sapientml.util.logging import setup_logger\n",
        "from sklearn.metrics import accuracy_score\n",
        "from sklearn.model_selection import train_test_split\n",
        "import seaborn as sns\n",
        "import os\n"
      ]
    },
    {
      "cell_type": "code",
      "execution_count": null,
      "id": "58a48caa",
      "metadata": {
        "colab": {
          "base_uri": "https://localhost:8080/",
          "height": 423
        },
        "id": "58a48caa",
        "outputId": "512013ba-4ce7-428b-8950-4f0c2ada9e53"
      },
      "outputs": [],
      "source": []
    },
    {
      "cell_type": "markdown",
      "id": "0h9-ai56mWxI",
      "metadata": {
        "id": "0h9-ai56mWxI"
      },
      "source": [
        "SapientMLでは、データセットと目的変数を指定することでその目的変数を予測するのに適している機械学習モデルの種類と前処理を自動で選択し、プログラムを組み立てて学習・推論を実行することができる。\n",
        "\n",
        "以下のコードセルでは、ダイヤモンドのデータの `cut` 列を予測するモデルを構築する。"
      ]
    },
    {
      "cell_type": "code",
      "execution_count": null,
      "id": "86e56999",
      "metadata": {
        "colab": {
          "base_uri": "https://localhost:8080/"
        },
        "id": "86e56999",
        "outputId": "ab42f755-b84f-4e2d-c77c-a40c895d8503"
      },
      "outputs": [],
      "source": []
    },
    {
      "cell_type": "markdown",
      "id": "ARV81lSJmr1d",
      "metadata": {
        "id": "ARV81lSJmr1d"
      },
      "source": [
        "構築したモデルで予測を行うには以下のコードセルを実行する。"
      ]
    },
    {
      "cell_type": "code",
      "execution_count": null,
      "id": "d8d294d9",
      "metadata": {
        "colab": {
          "base_uri": "https://localhost:8080/"
        },
        "id": "d8d294d9",
        "outputId": "7cbcf74c-3659-434b-97da-779f4b1d35be"
      },
      "outputs": [],
      "source": []
    },
    {
      "cell_type": "markdown",
      "id": "WJySUyy_m1Ey",
      "metadata": {
        "id": "WJySUyy_m1Ey"
      },
      "source": [
        "モデルの構築・予測のために生成されたプログラムは以下で確認することができる。"
      ]
    },
    {
      "cell_type": "code",
      "execution_count": null,
      "id": "n7qOusLam71F",
      "metadata": {
        "colab": {
          "base_uri": "https://localhost:8080/"
        },
        "id": "n7qOusLam71F",
        "outputId": "601a854f-bd48-40ce-d528-b7896f8187df"
      },
      "outputs": [],
      "source": []
    },
    {
      "cell_type": "code",
      "execution_count": null,
      "id": "JZR2P4YRnKKw",
      "metadata": {
        "colab": {
          "base_uri": "https://localhost:8080/"
        },
        "id": "JZR2P4YRnKKw",
        "outputId": "8d6e0416-df24-4234-8576-de34253109bd"
      },
      "outputs": [],
      "source": []
    },
    {
      "cell_type": "markdown",
      "id": "2cfd2279",
      "metadata": {
        "id": "2cfd2279"
      },
      "source": [
        "## おわりに\n",
        "\n",
        "プログラミング実習講義3,4では、Pythonによるプログラミングの基礎、基本的なアルゴリズムやデータ構造、また応用としてデータサイエンスおよび機械学習、AutoMLについて学んできた。過去に蓄積されてきたおびただしい量の便利なライブラリ・ツールに加えて近年では生成AIやノーコード・ローコード開発等の台頭により、人が必ずしも全てのコードを書かずとも高度なソフトウェアを開発することが出来ることになった。しかしながら、それらを正しく使いこなすにはプログラミングの素養がまだまだ重要である。経営学部の学生の皆様におかれても、この講義で学んだことをきっかけにプログラミングの素養を今後も引き続き磨いていってもらえることを願う。"
      ]
    },
    {
      "cell_type": "markdown",
      "id": "7cb00446",
      "metadata": {
        "id": "7cb00446"
      },
      "source": [
        "## 演習"
      ]
    },
    {
      "cell_type": "markdown",
      "id": "a08915dc",
      "metadata": {
        "id": "a08915dc"
      },
      "source": [
        "**課題**  \n",
        "SapientMLを用いて、インターネットで入手可能な適当なデータセット（CSVファイル）および適当な目的変数を設定して機械学習モデルを構築し、学習・予測のために生成されたプログラムを確認しなさい。\n",
        "\n",
        "以下のコードセルでは、URLで直接ダウンロード可能なデータセットを例として記載している。ここに新たなURLを指定するか、Google DriveにCSVファイルを置いて新しいデータを読み込んで試してみよう。Google Driveに置く方法で実施した場合は、レポートにCSVファイルも一緒に添付して提出してほしい。\n",
        "\n",
        "なお、データセット・目的変数の選び方によってはSapientMLのバグに起因するエラーが発生する可能性がある。データセット・目的変数の選び方が妥当かつどうしてもエラーが解消しない場合は、エラーのまま提出してもらって構わない。バグの報告は開発者にとってはとてもありがたいものである。"
      ]
    },
    {
      "cell_type": "code",
      "execution_count": null,
      "id": "U9w75v20n4uR",
      "metadata": {
        "id": "U9w75v20n4uR"
      },
      "outputs": [],
      "source": [
        "train_data = pd.read_csv(\"https://github.com/sapientml/sapientml/files/12481088/titanic.csv\")\n",
        "train_data"
      ]
    },
    {
      "cell_type": "code",
      "execution_count": null,
      "id": "_DN7HeqxnxSn",
      "metadata": {
        "id": "_DN7HeqxnxSn"
      },
      "outputs": [],
      "source": [
        "train_data, test_data = train_test_split(train_data)\n",
        "\n",
        "y_true = test_data[\"survived\"].reset_index(drop=True)\n",
        "test_data.drop([\"survived\"], axis=1, inplace=True)\n",
        "\n",
        "cls = SapientML([\"survived\"])\n",
        "setup_logger().handlers.clear()\n",
        "cls.fit(train_data)"
      ]
    },
    {
      "cell_type": "code",
      "execution_count": null,
      "id": "dQZqia1cn1fD",
      "metadata": {
        "id": "dQZqia1cn1fD"
      },
      "outputs": [],
      "source": [
        "train_script = cls.model.files[\"final_train.py\"].decode(\"utf-8\")\n",
        "print(train_script)"
      ]
    },
    {
      "cell_type": "code",
      "execution_count": null,
      "id": "vO2ZDnZQn2Lb",
      "metadata": {
        "id": "vO2ZDnZQn2Lb"
      },
      "outputs": [],
      "source": [
        "predict_script = cls.model.files[\"final_predict.py\"].decode(\"utf-8\")\n",
        "print(predict_script)"
      ]
    }
  ],
  "metadata": {
    "colab": {
      "provenance": []
    },
    "kernelspec": {
      "display_name": "Python 3",
      "language": "python",
      "name": "python3"
    },
    "language_info": {
      "codemirror_mode": {
        "name": "ipython",
        "version": 3
      },
      "file_extension": ".py",
      "mimetype": "text/x-python",
      "name": "python",
      "nbconvert_exporter": "python",
      "pygments_lexer": "ipython3",
      "version": "3.11.10"
    }
  },
  "nbformat": 4,
  "nbformat_minor": 5
}
