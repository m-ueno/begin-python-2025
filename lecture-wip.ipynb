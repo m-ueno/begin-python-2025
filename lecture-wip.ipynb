{
 "cells": [
  {
   "cell_type": "markdown",
   "id": "7d07c1fc",
   "metadata": {},
   "source": [
    "# 作成中"
   ]
  }
 ],
 "metadata": {
  "language_info": {
   "name": "python"
  }
 },
 "nbformat": 4,
 "nbformat_minor": 5
}
